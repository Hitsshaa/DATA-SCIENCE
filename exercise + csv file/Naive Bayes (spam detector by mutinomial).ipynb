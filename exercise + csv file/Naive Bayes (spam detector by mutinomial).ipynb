{
 "cells": [
  {
   "cell_type": "code",
   "execution_count": 1,
   "id": "311262b3",
   "metadata": {},
   "outputs": [],
   "source": [
    "import pandas as pd "
   ]
  },
  {
   "cell_type": "code",
   "execution_count": 2,
   "id": "e73ef797",
   "metadata": {},
   "outputs": [],
   "source": [
    "# multinomoial mainly use for discreate and text data feature and bernauli use for binomial feature and gaussian use for \n",
    "#continues feature"
   ]
  },
  {
   "cell_type": "code",
   "execution_count": 3,
   "id": "11089502",
   "metadata": {},
   "outputs": [
    {
     "data": {
      "text/html": [
       "<div>\n",
       "<style scoped>\n",
       "    .dataframe tbody tr th:only-of-type {\n",
       "        vertical-align: middle;\n",
       "    }\n",
       "\n",
       "    .dataframe tbody tr th {\n",
       "        vertical-align: top;\n",
       "    }\n",
       "\n",
       "    .dataframe thead th {\n",
       "        text-align: right;\n",
       "    }\n",
       "</style>\n",
       "<table border=\"1\" class=\"dataframe\">\n",
       "  <thead>\n",
       "    <tr style=\"text-align: right;\">\n",
       "      <th></th>\n",
       "      <th>Category</th>\n",
       "      <th>Message</th>\n",
       "    </tr>\n",
       "  </thead>\n",
       "  <tbody>\n",
       "    <tr>\n",
       "      <th>0</th>\n",
       "      <td>ham</td>\n",
       "      <td>Go until jurong point, crazy.. Available only ...</td>\n",
       "    </tr>\n",
       "    <tr>\n",
       "      <th>1</th>\n",
       "      <td>ham</td>\n",
       "      <td>Ok lar... Joking wif u oni...</td>\n",
       "    </tr>\n",
       "    <tr>\n",
       "      <th>2</th>\n",
       "      <td>spam</td>\n",
       "      <td>Free entry in 2 a wkly comp to win FA Cup fina...</td>\n",
       "    </tr>\n",
       "    <tr>\n",
       "      <th>3</th>\n",
       "      <td>ham</td>\n",
       "      <td>U dun say so early hor... U c already then say...</td>\n",
       "    </tr>\n",
       "    <tr>\n",
       "      <th>4</th>\n",
       "      <td>ham</td>\n",
       "      <td>Nah I don't think he goes to usf, he lives aro...</td>\n",
       "    </tr>\n",
       "  </tbody>\n",
       "</table>\n",
       "</div>"
      ],
      "text/plain": [
       "  Category                                            Message\n",
       "0      ham  Go until jurong point, crazy.. Available only ...\n",
       "1      ham                      Ok lar... Joking wif u oni...\n",
       "2     spam  Free entry in 2 a wkly comp to win FA Cup fina...\n",
       "3      ham  U dun say so early hor... U c already then say...\n",
       "4      ham  Nah I don't think he goes to usf, he lives aro..."
      ]
     },
     "execution_count": 3,
     "metadata": {},
     "output_type": "execute_result"
    }
   ],
   "source": [
    "df = pd.read_csv(\"spam_detector.csv\")\n",
    "df.head()"
   ]
  },
  {
   "cell_type": "code",
   "execution_count": 4,
   "id": "f795a064",
   "metadata": {},
   "outputs": [],
   "source": [
    "df[\"spam_column\"]= df[\"Category\"].map({\"ham\" : 0,\"spam\" : 1})"
   ]
  },
  {
   "cell_type": "code",
   "execution_count": 5,
   "id": "40cdff45",
   "metadata": {},
   "outputs": [
    {
     "data": {
      "text/html": [
       "<div>\n",
       "<style scoped>\n",
       "    .dataframe tbody tr th:only-of-type {\n",
       "        vertical-align: middle;\n",
       "    }\n",
       "\n",
       "    .dataframe tbody tr th {\n",
       "        vertical-align: top;\n",
       "    }\n",
       "\n",
       "    .dataframe thead tr th {\n",
       "        text-align: left;\n",
       "    }\n",
       "\n",
       "    .dataframe thead tr:last-of-type th {\n",
       "        text-align: right;\n",
       "    }\n",
       "</style>\n",
       "<table border=\"1\" class=\"dataframe\">\n",
       "  <thead>\n",
       "    <tr>\n",
       "      <th></th>\n",
       "      <th colspan=\"8\" halign=\"left\">spam_column</th>\n",
       "    </tr>\n",
       "    <tr>\n",
       "      <th></th>\n",
       "      <th>count</th>\n",
       "      <th>mean</th>\n",
       "      <th>std</th>\n",
       "      <th>min</th>\n",
       "      <th>25%</th>\n",
       "      <th>50%</th>\n",
       "      <th>75%</th>\n",
       "      <th>max</th>\n",
       "    </tr>\n",
       "    <tr>\n",
       "      <th>Category</th>\n",
       "      <th></th>\n",
       "      <th></th>\n",
       "      <th></th>\n",
       "      <th></th>\n",
       "      <th></th>\n",
       "      <th></th>\n",
       "      <th></th>\n",
       "      <th></th>\n",
       "    </tr>\n",
       "  </thead>\n",
       "  <tbody>\n",
       "    <tr>\n",
       "      <th>ham</th>\n",
       "      <td>4825.0</td>\n",
       "      <td>0.0</td>\n",
       "      <td>0.0</td>\n",
       "      <td>0.0</td>\n",
       "      <td>0.0</td>\n",
       "      <td>0.0</td>\n",
       "      <td>0.0</td>\n",
       "      <td>0.0</td>\n",
       "    </tr>\n",
       "    <tr>\n",
       "      <th>spam</th>\n",
       "      <td>747.0</td>\n",
       "      <td>1.0</td>\n",
       "      <td>0.0</td>\n",
       "      <td>1.0</td>\n",
       "      <td>1.0</td>\n",
       "      <td>1.0</td>\n",
       "      <td>1.0</td>\n",
       "      <td>1.0</td>\n",
       "    </tr>\n",
       "  </tbody>\n",
       "</table>\n",
       "</div>"
      ],
      "text/plain": [
       "         spam_column                                   \n",
       "               count mean  std  min  25%  50%  75%  max\n",
       "Category                                               \n",
       "ham           4825.0  0.0  0.0  0.0  0.0  0.0  0.0  0.0\n",
       "spam           747.0  1.0  0.0  1.0  1.0  1.0  1.0  1.0"
      ]
     },
     "execution_count": 5,
     "metadata": {},
     "output_type": "execute_result"
    }
   ],
   "source": [
    "df.groupby(\"Category\").describe()"
   ]
  },
  {
   "cell_type": "code",
   "execution_count": 6,
   "id": "e958765b",
   "metadata": {},
   "outputs": [
    {
     "data": {
      "text/html": [
       "<div>\n",
       "<style scoped>\n",
       "    .dataframe tbody tr th:only-of-type {\n",
       "        vertical-align: middle;\n",
       "    }\n",
       "\n",
       "    .dataframe tbody tr th {\n",
       "        vertical-align: top;\n",
       "    }\n",
       "\n",
       "    .dataframe thead th {\n",
       "        text-align: right;\n",
       "    }\n",
       "</style>\n",
       "<table border=\"1\" class=\"dataframe\">\n",
       "  <thead>\n",
       "    <tr style=\"text-align: right;\">\n",
       "      <th></th>\n",
       "      <th>Category</th>\n",
       "      <th>Message</th>\n",
       "      <th>spam_column</th>\n",
       "    </tr>\n",
       "  </thead>\n",
       "  <tbody>\n",
       "    <tr>\n",
       "      <th>0</th>\n",
       "      <td>ham</td>\n",
       "      <td>Go until jurong point, crazy.. Available only ...</td>\n",
       "      <td>0</td>\n",
       "    </tr>\n",
       "    <tr>\n",
       "      <th>1</th>\n",
       "      <td>ham</td>\n",
       "      <td>Ok lar... Joking wif u oni...</td>\n",
       "      <td>0</td>\n",
       "    </tr>\n",
       "    <tr>\n",
       "      <th>2</th>\n",
       "      <td>spam</td>\n",
       "      <td>Free entry in 2 a wkly comp to win FA Cup fina...</td>\n",
       "      <td>1</td>\n",
       "    </tr>\n",
       "    <tr>\n",
       "      <th>3</th>\n",
       "      <td>ham</td>\n",
       "      <td>U dun say so early hor... U c already then say...</td>\n",
       "      <td>0</td>\n",
       "    </tr>\n",
       "    <tr>\n",
       "      <th>4</th>\n",
       "      <td>ham</td>\n",
       "      <td>Nah I don't think he goes to usf, he lives aro...</td>\n",
       "      <td>0</td>\n",
       "    </tr>\n",
       "  </tbody>\n",
       "</table>\n",
       "</div>"
      ],
      "text/plain": [
       "  Category                                            Message  spam_column\n",
       "0      ham  Go until jurong point, crazy.. Available only ...            0\n",
       "1      ham                      Ok lar... Joking wif u oni...            0\n",
       "2     spam  Free entry in 2 a wkly comp to win FA Cup fina...            1\n",
       "3      ham  U dun say so early hor... U c already then say...            0\n",
       "4      ham  Nah I don't think he goes to usf, he lives aro...            0"
      ]
     },
     "execution_count": 6,
     "metadata": {},
     "output_type": "execute_result"
    }
   ],
   "source": [
    "df.head()"
   ]
  },
  {
   "cell_type": "code",
   "execution_count": 35,
   "id": "2cc20774",
   "metadata": {},
   "outputs": [],
   "source": [
    "from sklearn.model_selection import train_test_split"
   ]
  },
  {
   "cell_type": "code",
   "execution_count": 36,
   "id": "c2ed359a",
   "metadata": {},
   "outputs": [],
   "source": [
    "x_train,x_test,y_train,y_test = train_test_split(df[\"Message\"],df[\"spam_column\"],train_size = .6)"
   ]
  },
  {
   "cell_type": "code",
   "execution_count": 37,
   "id": "c898a413",
   "metadata": {},
   "outputs": [],
   "source": [
    "from sklearn.feature_extraction.text import CountVectorizer"
   ]
  },
  {
   "cell_type": "code",
   "execution_count": 38,
   "id": "51e1c4eb",
   "metadata": {},
   "outputs": [],
   "source": [
    "text = CountVectorizer()"
   ]
  },
  {
   "cell_type": "code",
   "execution_count": 39,
   "id": "0d6af288",
   "metadata": {},
   "outputs": [
    {
     "data": {
      "text/plain": [
       "pandas.core.series.Series"
      ]
     },
     "execution_count": 39,
     "metadata": {},
     "output_type": "execute_result"
    }
   ],
   "source": [
    "(type(x_train))"
   ]
  },
  {
   "cell_type": "code",
   "execution_count": 40,
   "id": "00f707a7",
   "metadata": {},
   "outputs": [],
   "source": [
    "x_new_train = text.fit_transform(x_train)  # it is use to convert values in numpy matrix"
   ]
  },
  {
   "cell_type": "code",
   "execution_count": 41,
   "id": "088eb309",
   "metadata": {
    "collapsed": true
   },
   "outputs": [
    {
     "data": {
      "text/plain": [
       "['__class__',\n",
       " '__delattr__',\n",
       " '__dict__',\n",
       " '__dir__',\n",
       " '__doc__',\n",
       " '__eq__',\n",
       " '__format__',\n",
       " '__ge__',\n",
       " '__getattribute__',\n",
       " '__getstate__',\n",
       " '__gt__',\n",
       " '__hash__',\n",
       " '__init__',\n",
       " '__init_subclass__',\n",
       " '__le__',\n",
       " '__lt__',\n",
       " '__module__',\n",
       " '__ne__',\n",
       " '__new__',\n",
       " '__reduce__',\n",
       " '__reduce_ex__',\n",
       " '__repr__',\n",
       " '__setattr__',\n",
       " '__setstate__',\n",
       " '__sizeof__',\n",
       " '__str__',\n",
       " '__subclasshook__',\n",
       " '__weakref__',\n",
       " '_char_ngrams',\n",
       " '_char_wb_ngrams',\n",
       " '_check_n_features',\n",
       " '_check_stop_words_consistency',\n",
       " '_check_vocabulary',\n",
       " '_count_vocab',\n",
       " '_get_param_names',\n",
       " '_get_tags',\n",
       " '_limit_features',\n",
       " '_more_tags',\n",
       " '_repr_html_',\n",
       " '_repr_html_inner',\n",
       " '_repr_mimebundle_',\n",
       " '_sort_features',\n",
       " '_stop_words_id',\n",
       " '_validate_data',\n",
       " '_validate_params',\n",
       " '_validate_vocabulary',\n",
       " '_warn_for_unused_params',\n",
       " '_white_spaces',\n",
       " '_word_ngrams',\n",
       " 'analyzer',\n",
       " 'binary',\n",
       " 'build_analyzer',\n",
       " 'build_preprocessor',\n",
       " 'build_tokenizer',\n",
       " 'decode',\n",
       " 'decode_error',\n",
       " 'dtype',\n",
       " 'encoding',\n",
       " 'fit',\n",
       " 'fit_transform',\n",
       " 'fixed_vocabulary_',\n",
       " 'get_feature_names',\n",
       " 'get_params',\n",
       " 'get_stop_words',\n",
       " 'input',\n",
       " 'inverse_transform',\n",
       " 'lowercase',\n",
       " 'max_df',\n",
       " 'max_features',\n",
       " 'min_df',\n",
       " 'ngram_range',\n",
       " 'preprocessor',\n",
       " 'set_params',\n",
       " 'stop_words',\n",
       " 'stop_words_',\n",
       " 'strip_accents',\n",
       " 'token_pattern',\n",
       " 'tokenizer',\n",
       " 'transform',\n",
       " 'vocabulary',\n",
       " 'vocabulary_']"
      ]
     },
     "execution_count": 41,
     "metadata": {},
     "output_type": "execute_result"
    }
   ],
   "source": [
    "dir(text)"
   ]
  },
  {
   "cell_type": "code",
   "execution_count": null,
   "id": "1b675c3c",
   "metadata": {},
   "outputs": [],
   "source": []
  },
  {
   "cell_type": "code",
   "execution_count": null,
   "id": "42a64436",
   "metadata": {},
   "outputs": [],
   "source": []
  },
  {
   "cell_type": "code",
   "execution_count": null,
   "id": "e929a02b",
   "metadata": {},
   "outputs": [],
   "source": []
  },
  {
   "cell_type": "code",
   "execution_count": 42,
   "id": "f704c39c",
   "metadata": {},
   "outputs": [
    {
     "data": {
      "text/plain": [
       "<3343x6625 sparse matrix of type '<class 'numpy.int64'>'\n",
       "\twith 44346 stored elements in Compressed Sparse Row format>"
      ]
     },
     "execution_count": 42,
     "metadata": {},
     "output_type": "execute_result"
    }
   ],
   "source": [
    "x_new_train   # class 'numpy.int64' arra"
   ]
  },
  {
   "cell_type": "code",
   "execution_count": null,
   "id": "a858722d",
   "metadata": {},
   "outputs": [],
   "source": []
  },
  {
   "cell_type": "code",
   "execution_count": 43,
   "id": "0a0e927e",
   "metadata": {},
   "outputs": [
    {
     "data": {
      "text/plain": [
       "array([[0, 0, 0, ..., 0, 0, 0],\n",
       "       [0, 0, 0, ..., 0, 0, 0]], dtype=int64)"
      ]
     },
     "execution_count": 43,
     "metadata": {},
     "output_type": "execute_result"
    }
   ],
   "source": [
    "x_new_train.toarray()[0:2]"
   ]
  },
  {
   "cell_type": "code",
   "execution_count": 44,
   "id": "272c68ec",
   "metadata": {},
   "outputs": [],
   "source": [
    "from sklearn.naive_bayes import MultinomialNB"
   ]
  },
  {
   "cell_type": "code",
   "execution_count": 45,
   "id": "0404bf4d",
   "metadata": {},
   "outputs": [],
   "source": [
    "model = MultinomialNB()"
   ]
  },
  {
   "cell_type": "code",
   "execution_count": 46,
   "id": "d449e336",
   "metadata": {},
   "outputs": [
    {
     "data": {
      "text/plain": [
       "MultinomialNB()"
      ]
     },
     "execution_count": 46,
     "metadata": {},
     "output_type": "execute_result"
    }
   ],
   "source": [
    "model.fit(x_new_train,y_train)"
   ]
  },
  {
   "cell_type": "code",
   "execution_count": 21,
   "id": "3a242181",
   "metadata": {},
   "outputs": [],
   "source": [
    "#MultinomialNB(alpha=1.0, class_prior=None, fit_prior=True)"
   ]
  },
  {
   "cell_type": "code",
   "execution_count": 47,
   "id": "e3ebe8fb",
   "metadata": {},
   "outputs": [],
   "source": [
    "emails = [\n",
    "    'Hey mohan, can we get together to watch footbal game tomorrow?',\n",
    "    'Upto 20% discount on parking, exclusive offer just for you. Dont miss this reward!'\n",
    "]"
   ]
  },
  {
   "cell_type": "code",
   "execution_count": 48,
   "id": "602a71b5",
   "metadata": {},
   "outputs": [],
   "source": [
    "email_transform = text.transform(emails)"
   ]
  },
  {
   "cell_type": "code",
   "execution_count": 24,
   "id": "264c071e",
   "metadata": {},
   "outputs": [
    {
     "name": "stdout",
     "output_type": "stream",
     "text": [
      "<class 'scipy.sparse.csr.csr_matrix'>\n"
     ]
    }
   ],
   "source": [
    "print(type(email_transform))"
   ]
  },
  {
   "cell_type": "code",
   "execution_count": 25,
   "id": "1fd3a893",
   "metadata": {},
   "outputs": [
    {
     "data": {
      "text/plain": [
       "array([0, 1], dtype=int64)"
      ]
     },
     "execution_count": 25,
     "metadata": {},
     "output_type": "execute_result"
    }
   ],
   "source": [
    "model.predict(email_transform)"
   ]
  },
  {
   "cell_type": "code",
   "execution_count": 26,
   "id": "671d9189",
   "metadata": {},
   "outputs": [],
   "source": [
    "x_test_new = text.transform(x_test.values)"
   ]
  },
  {
   "cell_type": "code",
   "execution_count": 27,
   "id": "0abe95f4",
   "metadata": {},
   "outputs": [
    {
     "data": {
      "text/plain": [
       "0.9869896814715119"
      ]
     },
     "execution_count": 27,
     "metadata": {},
     "output_type": "execute_result"
    }
   ],
   "source": [
    "model.score(x_test_new,y_test)"
   ]
  },
  {
   "cell_type": "code",
   "execution_count": 28,
   "id": "53cde35b",
   "metadata": {},
   "outputs": [],
   "source": [
    "from sklearn.pipeline import Pipeline"
   ]
  },
  {
   "cell_type": "code",
   "execution_count": 29,
   "id": "b8dcfbf8",
   "metadata": {},
   "outputs": [],
   "source": [
    "clf =Pipeline([(\"vectorizer\",CountVectorizer()),(\"nb\",MultinomialNB())])"
   ]
  },
  {
   "cell_type": "code",
   "execution_count": 30,
   "id": "6cf2d26b",
   "metadata": {},
   "outputs": [],
   "source": [
    "# Pipeline(memory=None,\n",
    "#      steps=[('vectorizer', CountVectorizer(analyzer='word', binary=False, decode_error='strict',\n",
    "#         dtype=<class 'numpy.int64'>, encoding='utf-8', input='content',\n",
    "#         lowercase=True, max_df=1.0, max_features=None, min_df=1,\n",
    "#         ngram_range=(1, 1), preprocessor=None, stop_words=None,\n",
    "#         strip_accents=None, token_pattern='(?u)\\\\b\\\\w\\\\w+\\\\b',\n",
    "#         tokenizer=None, vocabulary=None)), ('nb', MultinomialNB(alpha=1.0, class_prior=None, fit_prior=True))])\n"
   ]
  },
  {
   "cell_type": "code",
   "execution_count": 31,
   "id": "2091aaab",
   "metadata": {},
   "outputs": [
    {
     "data": {
      "text/plain": [
       "Pipeline(steps=[('vectorizer', CountVectorizer()), ('nb', MultinomialNB())])"
      ]
     },
     "execution_count": 31,
     "metadata": {},
     "output_type": "execute_result"
    }
   ],
   "source": [
    "clf.fit(x_train,y_train)"
   ]
  },
  {
   "cell_type": "code",
   "execution_count": 32,
   "id": "fd5d8191",
   "metadata": {},
   "outputs": [
    {
     "data": {
      "text/plain": [
       "0.9869896814715119"
      ]
     },
     "execution_count": 32,
     "metadata": {},
     "output_type": "execute_result"
    }
   ],
   "source": [
    "clf.score(x_test,y_test)"
   ]
  },
  {
   "cell_type": "code",
   "execution_count": null,
   "id": "54367d61",
   "metadata": {},
   "outputs": [],
   "source": []
  },
  {
   "cell_type": "code",
   "execution_count": null,
   "id": "6e725f9c",
   "metadata": {},
   "outputs": [],
   "source": []
  },
  {
   "cell_type": "markdown",
   "id": "4821f7af",
   "metadata": {},
   "source": [
    "# exercise "
   ]
  },
  {
   "cell_type": "code",
   "execution_count": 33,
   "id": "dcc85d8e",
   "metadata": {},
   "outputs": [
    {
     "ename": "SyntaxError",
     "evalue": "invalid syntax (Temp/ipykernel_47208/1008045376.py, line 1)",
     "output_type": "error",
     "traceback": [
      "\u001b[1;36m  File \u001b[1;32m\"C:\\Users\\LENOVO\\AppData\\Local\\Temp/ipykernel_47208/1008045376.py\"\u001b[1;36m, line \u001b[1;32m1\u001b[0m\n\u001b[1;33m    Machine Learning Tutorial - Naive Bayes: Exercise\u001b[0m\n\u001b[1;37m            ^\u001b[0m\n\u001b[1;31mSyntaxError\u001b[0m\u001b[1;31m:\u001b[0m invalid syntax\n"
     ]
    }
   ],
   "source": [
    "Machine Learning Tutorial - Naive Bayes: Exercise\n",
    "Use wine dataset from sklearn.datasets to classify wines into 3 categories. Load the dataset and split\n",
    "it into test and train. After that train the model using Gaussian and Multinominal classifier and post which model \n",
    "performs better. Use the trained model to perform some predictions on test data."
   ]
  },
  {
   "cell_type": "code",
   "execution_count": null,
   "id": "d81f9dc5",
   "metadata": {},
   "outputs": [],
   "source": [
    "from sklearn.datasets import load_wine"
   ]
  },
  {
   "cell_type": "code",
   "execution_count": null,
   "id": "7d71a260",
   "metadata": {},
   "outputs": [],
   "source": [
    "wine = load_wine()"
   ]
  },
  {
   "cell_type": "code",
   "execution_count": null,
   "id": "4a832257",
   "metadata": {},
   "outputs": [],
   "source": [
    "dir(wine)"
   ]
  },
  {
   "cell_type": "code",
   "execution_count": null,
   "id": "34015ca0",
   "metadata": {},
   "outputs": [],
   "source": [
    "df = pd.DataFrame(wine.data,columns = wine.feature_names)"
   ]
  },
  {
   "cell_type": "code",
   "execution_count": null,
   "id": "996e9a25",
   "metadata": {},
   "outputs": [],
   "source": [
    "df[\"target\"] = wine.target"
   ]
  },
  {
   "cell_type": "code",
   "execution_count": null,
   "id": "5a050629",
   "metadata": {},
   "outputs": [],
   "source": [
    "df[\"target_name\"] = df.target.apply(lambda x : wine.target_names[x])"
   ]
  },
  {
   "cell_type": "code",
   "execution_count": null,
   "id": "f4521e6c",
   "metadata": {},
   "outputs": [],
   "source": [
    "df.head()"
   ]
  },
  {
   "cell_type": "code",
   "execution_count": null,
   "id": "027d0787",
   "metadata": {},
   "outputs": [],
   "source": [
    "continuous dataset thats why gaussian is better than multinomoalnb"
   ]
  },
  {
   "cell_type": "code",
   "execution_count": null,
   "id": "8e16f3a6",
   "metadata": {},
   "outputs": [],
   "source": [
    "df.corr()"
   ]
  },
  {
   "cell_type": "code",
   "execution_count": null,
   "id": "67a90196",
   "metadata": {},
   "outputs": [],
   "source": [
    "import seaborn as sns\n",
    "import matplotlib.pyplot as plt "
   ]
  },
  {
   "cell_type": "code",
   "execution_count": null,
   "id": "2af866af",
   "metadata": {},
   "outputs": [],
   "source": [
    "plt.figure(figsize = (16,8))\n",
    "sns.heatmap(df.corr(),annot =True)"
   ]
  },
  {
   "cell_type": "code",
   "execution_count": null,
   "id": "a491d3af",
   "metadata": {},
   "outputs": [],
   "source": [
    "from sklearn.model_selection import train_test_split"
   ]
  },
  {
   "cell_type": "code",
   "execution_count": null,
   "id": "6a149983",
   "metadata": {},
   "outputs": [],
   "source": [
    "x_train,x_test,y_train,y_test = train_test_split(df.drop([\"target\",\"target_name\"],axis =1),df[\"target\"],train_size = .7)"
   ]
  },
  {
   "cell_type": "code",
   "execution_count": null,
   "id": "6314a1e5",
   "metadata": {},
   "outputs": [],
   "source": [
    "from sklearn.naive_bayes import MultinomialNB,GaussianNB"
   ]
  },
  {
   "cell_type": "code",
   "execution_count": null,
   "id": "6aaca013",
   "metadata": {},
   "outputs": [],
   "source": [
    "# continuous dataset thats why gaussian is better than multinomoalnb"
   ]
  },
  {
   "cell_type": "code",
   "execution_count": null,
   "id": "9c4564d5",
   "metadata": {},
   "outputs": [],
   "source": [
    "model_multi = MultinomialNB()\n",
    "model_multi.fit(x_train,y_train)\n",
    "model_multi.score(x_test,y_test)"
   ]
  },
  {
   "cell_type": "code",
   "execution_count": null,
   "id": "2ac7db38",
   "metadata": {},
   "outputs": [],
   "source": [
    "model_multi.predict(x_test)"
   ]
  },
  {
   "cell_type": "code",
   "execution_count": null,
   "id": "84e31cb1",
   "metadata": {},
   "outputs": [],
   "source": [
    "series = pd.Series(model_multi.predict(x_test))\n",
    "series.head()"
   ]
  },
  {
   "cell_type": "code",
   "execution_count": null,
   "id": "94f9da39",
   "metadata": {},
   "outputs": [],
   "source": [
    "t = series.apply(lambda x :wine.target_names[x])\n",
    "t.head()"
   ]
  },
  {
   "cell_type": "code",
   "execution_count": null,
   "id": "030a7a6d",
   "metadata": {},
   "outputs": [],
   "source": [
    "model_gaussian = GaussianNB()\n",
    "model_gaussian.fit(x_train,y_train)\n",
    "model_gaussian.score(x_test,y_test)"
   ]
  },
  {
   "cell_type": "code",
   "execution_count": null,
   "id": "2e8b43b4",
   "metadata": {},
   "outputs": [],
   "source": [
    "model_gaussian.predict(x_test)"
   ]
  },
  {
   "cell_type": "code",
   "execution_count": null,
   "id": "7ce60bbd",
   "metadata": {},
   "outputs": [],
   "source": [
    "y_test"
   ]
  },
  {
   "cell_type": "code",
   "execution_count": null,
   "id": "a9feff52",
   "metadata": {},
   "outputs": [],
   "source": []
  },
  {
   "cell_type": "code",
   "execution_count": null,
   "id": "6f31e66c",
   "metadata": {},
   "outputs": [],
   "source": [
    "\n",
    "from sklearn import datasets\n",
    "wine = datasets.load_wine()\n",
    "dir(wine)\n",
    "['DESCR', 'data', 'feature_names', 'target', 'target_names']\n",
    "wine.data[0:2]\n",
    "array([[1.423e+01, 1.710e+00, 2.430e+00, 1.560e+01, 1.270e+02, 2.800e+00,\n",
    "        3.060e+00, 2.800e-01, 2.290e+00, 5.640e+00, 1.040e+00, 3.920e+00,\n",
    "        1.065e+03],\n",
    "       [1.320e+01, 1.780e+00, 2.140e+00, 1.120e+01, 1.000e+02, 2.650e+00,\n",
    "        2.760e+00, 2.600e-01, 1.280e+00, 4.380e+00, 1.050e+00, 3.400e+00,\n",
    "        1.050e+03]])\n",
    "wine.feature_names\n",
    "['alcohol',\n",
    " 'malic_acid',\n",
    " 'ash',\n",
    " 'alcalinity_of_ash',\n",
    " 'magnesium',\n",
    " 'total_phenols',\n",
    " 'flavanoids',\n",
    " 'nonflavanoid_phenols',\n",
    " 'proanthocyanins',\n",
    " 'color_intensity',\n",
    " 'hue',\n",
    " 'od280/od315_of_diluted_wines',\n",
    " 'proline']\n",
    "wine.target_names\n",
    "array(['class_0', 'class_1', 'class_2'], dtype='<U7')\n",
    "wine.target[0:2]\n",
    "array([0, 0])\n",
    "import pandas as pd\n",
    "df = pd.DataFrame(wine.data,columns=wine.feature_names)\n",
    "df.head()\n",
    "alcohol\tmalic_acid\tash\talcalinity_of_ash\tmagnesium\ttotal_phenols\tflavanoids\tnonflavanoid_phenols\tproanthocyanins\tcolor_intensity\thue\tod280/od315_of_diluted_wines\tproline\n",
    "0\t14.23\t1.71\t2.43\t15.6\t127.0\t2.80\t3.06\t0.28\t2.29\t5.64\t1.04\t3.92\t1065.0\n",
    "1\t13.20\t1.78\t2.14\t11.2\t100.0\t2.65\t2.76\t0.26\t1.28\t4.38\t1.05\t3.40\t1050.0\n",
    "2\t13.16\t2.36\t2.67\t18.6\t101.0\t2.80\t3.24\t0.30\t2.81\t5.68\t1.03\t3.17\t1185.0\n",
    "3\t14.37\t1.95\t2.50\t16.8\t113.0\t3.85\t3.49\t0.24\t2.18\t7.80\t0.86\t3.45\t1480.0\n",
    "4\t13.24\t2.59\t2.87\t21.0\t118.0\t2.80\t2.69\t0.39\t1.82\t4.32\t1.04\t2.93\t735.0\n",
    "df['target'] = wine.target\n",
    "df[50:70]\n",
    "alcohol\tmalic_acid\tash\talcalinity_of_ash\tmagnesium\ttotal_phenols\tflavanoids\tnonflavanoid_phenols\tproanthocyanins\tcolor_intensity\thue\tod280/od315_of_diluted_wines\tproline\ttarget\n",
    "50\t13.05\t1.73\t2.04\t12.4\t92.0\t2.72\t3.27\t0.17\t2.91\t7.20\t1.12\t2.91\t1150.0\t0\n",
    "51\t13.83\t1.65\t2.60\t17.2\t94.0\t2.45\t2.99\t0.22\t2.29\t5.60\t1.24\t3.37\t1265.0\t0\n",
    "52\t13.82\t1.75\t2.42\t14.0\t111.0\t3.88\t3.74\t0.32\t1.87\t7.05\t1.01\t3.26\t1190.0\t0\n",
    "53\t13.77\t1.90\t2.68\t17.1\t115.0\t3.00\t2.79\t0.39\t1.68\t6.30\t1.13\t2.93\t1375.0\t0\n",
    "54\t13.74\t1.67\t2.25\t16.4\t118.0\t2.60\t2.90\t0.21\t1.62\t5.85\t0.92\t3.20\t1060.0\t0\n",
    "55\t13.56\t1.73\t2.46\t20.5\t116.0\t2.96\t2.78\t0.20\t2.45\t6.25\t0.98\t3.03\t1120.0\t0\n",
    "56\t14.22\t1.70\t2.30\t16.3\t118.0\t3.20\t3.00\t0.26\t2.03\t6.38\t0.94\t3.31\t970.0\t0\n",
    "57\t13.29\t1.97\t2.68\t16.8\t102.0\t3.00\t3.23\t0.31\t1.66\t6.00\t1.07\t2.84\t1270.0\t0\n",
    "58\t13.72\t1.43\t2.50\t16.7\t108.0\t3.40\t3.67\t0.19\t2.04\t6.80\t0.89\t2.87\t1285.0\t0\n",
    "59\t12.37\t0.94\t1.36\t10.6\t88.0\t1.98\t0.57\t0.28\t0.42\t1.95\t1.05\t1.82\t520.0\t1\n",
    "60\t12.33\t1.10\t2.28\t16.0\t101.0\t2.05\t1.09\t0.63\t0.41\t3.27\t1.25\t1.67\t680.0\t1\n",
    "61\t12.64\t1.36\t2.02\t16.8\t100.0\t2.02\t1.41\t0.53\t0.62\t5.75\t0.98\t1.59\t450.0\t1\n",
    "62\t13.67\t1.25\t1.92\t18.0\t94.0\t2.10\t1.79\t0.32\t0.73\t3.80\t1.23\t2.46\t630.0\t1\n",
    "63\t12.37\t1.13\t2.16\t19.0\t87.0\t3.50\t3.10\t0.19\t1.87\t4.45\t1.22\t2.87\t420.0\t1\n",
    "64\t12.17\t1.45\t2.53\t19.0\t104.0\t1.89\t1.75\t0.45\t1.03\t2.95\t1.45\t2.23\t355.0\t1\n",
    "65\t12.37\t1.21\t2.56\t18.1\t98.0\t2.42\t2.65\t0.37\t2.08\t4.60\t1.19\t2.30\t678.0\t1\n",
    "66\t13.11\t1.01\t1.70\t15.0\t78.0\t2.98\t3.18\t0.26\t2.28\t5.30\t1.12\t3.18\t502.0\t1\n",
    "67\t12.37\t1.17\t1.92\t19.6\t78.0\t2.11\t2.00\t0.27\t1.04\t4.68\t1.12\t3.48\t510.0\t1\n",
    "68\t13.34\t0.94\t2.36\t17.0\t110.0\t2.53\t1.30\t0.55\t0.42\t3.17\t1.02\t1.93\t750.0\t1\n",
    "69\t12.21\t1.19\t1.75\t16.8\t151.0\t1.85\t1.28\t0.14\t2.50\t2.85\t1.28\t3.07\t718.0\t1\n",
    "from sklearn.model_selection import train_test_split\n",
    "X_train, X_test, y_train, y_test = train_test_split(wine.data, wine.target, test_size=0.3, random_state=100)\n",
    "from sklearn.naive_bayes import GaussianNB, MultinomialNB\n",
    "model = GaussianNB()\n",
    "model.fit(X_train,y_train)\n",
    "GaussianNB(priors=None, var_smoothing=1e-09)\n",
    "model.score(X_test,y_test)\n",
    "1.0\n",
    "mn = MultinomialNB()\n",
    "mn.fit(X_train,y_train)\n",
    "mn.score(X_test,y_test)\n",
    "0.7777777777777778"
   ]
  },
  {
   "cell_type": "code",
   "execution_count": null,
   "id": "c28db226",
   "metadata": {},
   "outputs": [],
   "source": []
  },
  {
   "cell_type": "code",
   "execution_count": null,
   "id": "0917a437",
   "metadata": {},
   "outputs": [],
   "source": []
  },
  {
   "cell_type": "code",
   "execution_count": null,
   "id": "65bed94e",
   "metadata": {},
   "outputs": [],
   "source": []
  },
  {
   "cell_type": "code",
   "execution_count": null,
   "id": "e0212f46",
   "metadata": {},
   "outputs": [],
   "source": []
  },
  {
   "cell_type": "code",
   "execution_count": null,
   "id": "e3456a89",
   "metadata": {},
   "outputs": [],
   "source": [
    "\n",
    "\n",
    "0.9827709978463748\n",
    "Sklearn Pipeline\n",
    "\n",
    "from sklearn.pipeline import Pipeline\n",
    "clf = Pipeline([\n",
    "    ('vectorizer', CountVectorizer()),\n",
    "    ('nb', MultinomialNB())\n",
    "])\n",
    "clf.fit(X_train, y_train)\n",
    "Pipeline(memory=None,\n",
    "     steps=[('vectorizer', CountVectorizer(analyzer='word', binary=False, decode_error='strict',\n",
    "        dtype=<class 'numpy.int64'>, encoding='utf-8', input='content',\n",
    "        lowercase=True, max_df=1.0, max_features=None, min_df=1,\n",
    "        ngram_range=(1, 1), preprocessor=None, stop_words=None,\n",
    "        strip_accents=None, token_pattern='(?u)\\\\b\\\\w\\\\w+\\\\b',\n",
    "        tokenizer=None, vocabulary=None)), ('nb', MultinomialNB(alpha=1.0, class_prior=None, fit_prior=True))])\n",
    "clf.score(X_test,y_test)\n",
    "0.9827709978463748\n",
    "clf.predict(emails)\n",
    "array([0, 1], dtype=int64)"
   ]
  }
 ],
 "metadata": {
  "kernelspec": {
   "display_name": "Python 3 (ipykernel)",
   "language": "python",
   "name": "python3"
  },
  "language_info": {
   "codemirror_mode": {
    "name": "ipython",
    "version": 3
   },
   "file_extension": ".py",
   "mimetype": "text/x-python",
   "name": "python",
   "nbconvert_exporter": "python",
   "pygments_lexer": "ipython3",
   "version": "3.9.7"
  }
 },
 "nbformat": 4,
 "nbformat_minor": 5
}
