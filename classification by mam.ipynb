{
 "cells": [
  {
   "cell_type": "code",
   "execution_count": null,
   "id": "a5841676",
   "metadata": {},
   "outputs": [],
   "source": [
    "sigmoid curve \n",
    "From Get Excelsior to Everyone 08:34 PM\n",
    "https://www.kaggle.com/datasets/arshid/iris-flower-dataset\n",
    "From Get Excelsior to Everyone 08:55 PM\n",
    "https://www.javatpoint.com/classification-algorithm-in-machine-learning\n",
    "https://www.analyticsvidhya.com/blog/2021/09/a-complete-guide-to-understand-classification-in-machine-learning/\n",
    "https://www.edureka.co/blog/classification-in-machine-learning/#:~:text=MNIST%20Digit%20Classification-,What%20is%20Classification%20In%20Machine%20Learning,as%20target%2C%20label%20or%20categories.\n",
    "From Get Excelsior to Everyone 08:31 PM\n",
    "https://www.analyticsvidhya.com/blog/2021/08/data-preprocessing-in-data-mining-a-hands-on-guide/\n",
    "From Get Excelsior to Everyone 09:01 PM\n",
    "Preprocessing in Machine learning\n",
    "https://www.analyticsvidhya.com/blog/2021/10/handling-missing-value/#:~:text=Introduction,reasons%20for%20the%20missing%20data.\n",
    "https://towardsdatascience.com/data-preprocessing-concepts-fa946d11c825\n",
    "https://www.javatpoint.com/data-preprocessing-machine-learning\n",
    "https://www.kaggle.com/datasets/uciml/breast-cancer-wisconsin-data\n",
    "https://www.kaggle.com/datasets/arshid/iris-flower-dataset\n",
    "https://www.youtube.com/watch?v=L_xBe7MbPwk\n",
    "https://www.javatpoint.com/k-nearest-neighbor-algorithm-for-machine-learning\n",
    "From Get Excelsior to Everyone 08:41 PM\n",
    "https://www.analyticsvidhya.com/blog/2021/04/confusion-matrix-detailed-intuition-and-trick-to-learn/\n",
    "From Get Excelsior to Everyone 08:55 PM\n",
    "https://www.analyticsvidhya.com/blog/2020/04/confusion-matrix-machine-learning/#:~:text=A%20Confusion%20matrix%20is%20an,the%20number%20of%20target%20classes.\n",
    "\n"
   ]
  },
  {
   "cell_type": "code",
   "execution_count": null,
   "id": "e13c6aec",
   "metadata": {},
   "outputs": [],
   "source": [
    "#linear model\n",
    "logistic regression\n",
    "support vector machine \n",
    "#non linear models \n",
    "k- nearest(neighbours)\n",
    "kernel svm\n",
    "naive bayes \n",
    "decision tree classification\n",
    "random forest classification\n",
    "\n"
   ]
  }
 ],
 "metadata": {
  "kernelspec": {
   "display_name": "Python 3 (ipykernel)",
   "language": "python",
   "name": "python3"
  },
  "language_info": {
   "codemirror_mode": {
    "name": "ipython",
    "version": 3
   },
   "file_extension": ".py",
   "mimetype": "text/x-python",
   "name": "python",
   "nbconvert_exporter": "python",
   "pygments_lexer": "ipython3",
   "version": "3.9.7"
  }
 },
 "nbformat": 4,
 "nbformat_minor": 5
}
